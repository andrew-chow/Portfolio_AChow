{
 "cells": [
  {
   "cell_type": "markdown",
   "metadata": {},
   "source": [
    "This analysis has been prompted by the recent media trends have been emphasizing the fires in the Amazon Rainforest. The question we want answered is: Are the fires occuring in Brazil abnormal?"
   ]
  },
  {
   "cell_type": "code",
   "execution_count": null,
   "metadata": {
    "_cell_guid": "b1076dfc-b9ad-4769-8c92-a6c4dae69d19",
    "_uuid": "8f2839f25d086af736a60e9eeb907d3b93b6e0e5"
   },
   "outputs": [],
   "source": [
    "import pandas as pd\n",
    "import matplotlib.pyplot as plt\n",
    "%matplotlib inline\n",
    "import seaborn as sns\n",
    "print(\"Setup Complete\")\n",
    "\n",
    "fire_filepath= \"../input/forest-fires-in-brazil/amazon.csv\"\n",
    "fire_data= pd.read_csv(fire_filepath,encoding=\"windows-1252\")\n",
    "fire_data.tail()"
   ]
  },
  {
   "cell_type": "code",
   "execution_count": null,
   "metadata": {
    "_cell_guid": "79c7e3d0-c299-4dcb-8224-4455121ee9b0",
    "_kg_hide-input": true,
    "_kg_hide-output": true,
    "_uuid": "d629ff2d2480ee46fbb7e2d37f6b5fab8052498a"
   },
   "outputs": [],
   "source": [
    "fire_data.state.unique()"
   ]
  },
  {
   "cell_type": "code",
   "execution_count": null,
   "metadata": {
    "_kg_hide-input": true,
    "_kg_hide-output": true
   },
   "outputs": [],
   "source": [
    "fire_data.month.unique()"
   ]
  },
  {
   "cell_type": "code",
   "execution_count": null,
   "metadata": {},
   "outputs": [],
   "source": [
    "fire_data.info()"
   ]
  },
  {
   "cell_type": "code",
   "execution_count": null,
   "metadata": {
    "_kg_hide-input": true,
    "_kg_hide-output": true
   },
   "outputs": [],
   "source": [
    "fire_data.number.replace(['-'],0.0,inplace = True)\n",
    "fire_data.number.replace([' '],0.0,inplace = True)\n",
    "fire_data.head(-10)"
   ]
  },
  {
   "cell_type": "code",
   "execution_count": null,
   "metadata": {},
   "outputs": [],
   "source": [
    "fire_date_data= fire_data.groupby(by = ['year','state', 'month']).sum().reset_index()\n",
    "fire_date_data.head()"
   ]
  },
  {
   "cell_type": "markdown",
   "metadata": {},
   "source": [
    "The graph below depicts toal fires in Brazil between 1998 and 2017."
   ]
  },
  {
   "cell_type": "code",
   "execution_count": null,
   "metadata": {
    "_kg_hide-input": true
   },
   "outputs": [],
   "source": [
    "plt.figure(figsize=(14,5))\n",
    "total_fires=sns.lineplot(x= 'year', y= 'number', data= fire_date_data, estimator= \"sum\", color= \"red\")\n",
    "plt.title('Total Fires in Brazil: 1998- 2017')\n",
    "plt.xlabel('Year', fontsize = 15)\n",
    "plt.ylabel('Number of Fires', fontsize = 15)\n",
    "total_fires.xaxis.set_major_locator(plt.MaxNLocator(19))\n",
    "total_fires.set_xlim(1998, 2017)"
   ]
  },
  {
   "cell_type": "markdown",
   "metadata": {},
   "source": [
    "After getting a preliminary glipse at our data we still need more detailed information to answer our question.Overall analysis of all fires occuring in the entirety of Brazil show no recent spike in frequency over the years. However, we do see a slight overall increase in fires after 2010 so let's keep digging to get a clearer picture. Therefore let's break the data down by states to get a better idea of the situation."
   ]
  },
  {
   "cell_type": "code",
   "execution_count": null,
   "metadata": {
    "_kg_hide-input": true
   },
   "outputs": [],
   "source": [
    "fire_state_data= fire_data[fire_data['state'].isin(['Amazonas','Mato Grosso','Paraiba','Sao Paulo','Rio'])].groupby(by = ['year','state', 'month']).sum().reset_index()\n",
    "plt.figure(figsize=(14,5))\n",
    "flp = sns.lineplot(x='year', y='number', data= fire_state_data, lw = 3, estimator = 'sum', err_style= None, hue= 'state', palette= \"Set1\")\n",
    "plt.title('Total Fires in Brazil by State : 1998 - 2017', fontsize = 19)\n",
    "plt.xlabel('Year', fontsize = 15)\n",
    "plt.ylabel('Number of Fires', fontsize = 15)\n",
    "flp.xaxis.set_major_locator(plt.MaxNLocator(19))\n",
    "flp.set_xlim(1998, 2017)"
   ]
  },
  {
   "cell_type": "markdown",
   "metadata": {},
   "source": [
    "When we break down the data by states it becomes clear that Mato Grosso not only contains the most fires annually but also had a dramatic spike in 2010. Why is this?"
   ]
  },
  {
   "cell_type": "markdown",
   "metadata": {},
   "source": [
    "Firstly, it is important to note that Mato Grosso is an agricultural epicenter of Brazil and is Brazil's powerhouse for cattle hearding. According to Peterson Vale of the Center for Sustainability and the Global Environment (SAGE), \"the state of [Mato Grosso](https://journals.plos.org/plosone/article?id=10.1371/journal.pone.0215286) is Brazil’s agribusiness powerhouse with a cattle herd of 30.2 million head in 2017.\" Cattle herding, according to the Global Forest Atlas of Yale, \"is the largest driver of deforestation in every Amazon country, accounting for [80% of current deforestation rates](https://globalforestatlas.yale.edu/amazon/land-use/cattle-ranching).\" This can explain the higher levels of forest fires found in Mato Grosso as compared to the rest of Brazil. Moreover, Mato Grosso also contains the Amazon Rainforest which can be another reason why there are more forest fires found in the region as compared to somewhere else like Sao Paulo. Not only this but Mato Grosso was hit by a [massive drought in 2010](https://www.worldbank.org/en/news/feature/2013/02/15/Brazil-fights-global-warming-Amazon) which laid way to many forest fires."
   ]
  },
  {
   "cell_type": "code",
   "execution_count": null,
   "metadata": {
    "_kg_hide-input": true,
    "_kg_hide-output": true
   },
   "outputs": [],
   "source": [
    "#amazon fire data by month\n",
    "amnz_fire_data= fire_data[fire_data['state'] == 'Amazonas'].groupby(by = ['year','state', 'month']).sum().reset_index()\n",
    "mtgr_fire_data= fire_data[fire_data['state'] == 'Mato Grosso'].groupby(by = ['year','state', 'month']).sum().reset_index()\n",
    "amnz_fire_data.head()\n",
    "amnz_fire_data.head()\n",
    "\n"
   ]
  },
  {
   "cell_type": "code",
   "execution_count": null,
   "metadata": {
    "_kg_hide-input": true
   },
   "outputs": [],
   "source": [
    "plt.figure(figsize=(14,5))\n",
    "amnz_months= sns.barplot(x= amnz_fire_data.month, y= amnz_fire_data.number, order= ['Janeiro', 'Fevereiro', 'Março', 'Abril', 'Maio', 'Junho', 'Julho',\n",
    "       'Agosto', 'Setembro', 'Outubro', 'Novembro', 'Dezembro'])"
   ]
  },
  {
   "cell_type": "markdown",
   "metadata": {},
   "source": [
    "Breaking down the number of fires by month in just the Amazonas state shows a clear uptick in fires from July to December, or more broadly their Winter (June to August) and Spring (September to November) [seasons](http://www.universaltraveller.com.au/destinations/brazil/weather) which tend to be their dry season (Winter) and the begining of their rainy season (Spring)."
   ]
  },
  {
   "cell_type": "code",
   "execution_count": null,
   "metadata": {
    "_kg_hide-input": true
   },
   "outputs": [],
   "source": [
    "plt.figure(figsize=(14,5))\n",
    "mtgr_months= sns.barplot(x= mtgr_fire_data.month, y= mtgr_fire_data.number,order= ['Janeiro', 'Fevereiro', 'Março', 'Abril', 'Maio', 'Junho', 'Julho',\n",
    "       'Agosto', 'Setembro', 'Outubro', 'Novembro', 'Dezembro'])"
   ]
  },
  {
   "cell_type": "markdown",
   "metadata": {},
   "source": [
    "Breaking down the number of fires per month in Mato Grosso shows fire occurances happening throughout the most part of the year."
   ]
  },
  {
   "cell_type": "markdown",
   "metadata": {},
   "source": [
    "Let's join the Amazonas and Mato Grosso state data to get an overall view of the entire Amazon rainforest."
   ]
  },
  {
   "cell_type": "code",
   "execution_count": null,
   "metadata": {
    "_kg_hide-input": true
   },
   "outputs": [],
   "source": [
    "amnz_total_data= fire_data[fire_data['state'].isin(['Amazonas','Mato Grosso'])].groupby(by = ['year','state', 'month']).sum().reset_index()\n",
    "amnz_total_data.info"
   ]
  },
  {
   "cell_type": "code",
   "execution_count": null,
   "metadata": {
    "_kg_hide-input": true
   },
   "outputs": [],
   "source": [
    "plt.figure(figsize=(14,5))\n",
    "amnz_total_graph= sns.barplot(x=amnz_total_data.month, y=amnz_total_data.number,order= ['Janeiro', 'Fevereiro', 'Março', 'Abril', 'Maio', 'Junho', 'Julho',\n",
    "       'Agosto', 'Setembro', 'Outubro', 'Novembro', 'Dezembro'])"
   ]
  },
  {
   "cell_type": "markdown",
   "metadata": {},
   "source": [
    "As we put the data together, we can still see that there is an increase during October and November. This is curious because November should be rainy season. Lets try to clear this up by taking out abnormal years such as 2005, 2006, 2010, and 2015. Brazil [experienced a big drought in 2005 that offset the rainy season in 2006](https://agupubs.onlinelibrary.wiley.com/doi/abs/10.1029/2019GL083776) and in [2010 and 2015](https://agupubs.onlinelibrary.wiley.com/doi/10.1002/2015GB005133) Brazil again experienced abnormally dry and persistent droughts.\n",
    "We will therefore look only at a sample of the years 2012-2014."
   ]
  },
  {
   "cell_type": "code",
   "execution_count": null,
   "metadata": {},
   "outputs": [],
   "source": [
    "plt.figure(figsize=(14,5))\n",
    "amnz_nonbig_months_data= fire_data[fire_data['state'].isin(['Amazonas','Mato Grosso'])].groupby(by = ['year','state', 'month']).sum().reset_index()\n",
    "amnz_nonbig_months_data= amnz_nonbig_months_data[amnz_nonbig_months_data['year'].isin(['2012','2013','2014'])].groupby(by = ['year','state', 'month']).sum().reset_index()\n",
    "amnz_nonbig_months_data.head()\n",
    "nonbig_months_graph= sns.barplot(x=amnz_nonbig_months_data.month, y=amnz_nonbig_months_data.number,order= ['Janeiro', 'Fevereiro', 'Março', 'Abril', 'Maio', 'Junho', 'Julho',\n",
    "       'Agosto', 'Setembro', 'Outubro', 'Novembro', 'Dezembro'])"
   ]
  },
  {
   "cell_type": "markdown",
   "metadata": {},
   "source": [
    "Still particular. Why does the graph indicate that May, October, November, and December as the months with the highest number of fires. November and December are supposed to be the begining of the wet season. Let's dig deeper by looking outside of our dataset for answers"
   ]
  },
  {
   "cell_type": "markdown",
   "metadata": {},
   "source": [
    "[Mikaela Weisse](https://www.washingtonpost.com/weather/2019/08/21/amazonian-rainforest-is-ablaze-turning-day-into-night-brazils-capital-city/), a program manager with Global Forest Watch, confirms our analysis by stating that fire season in Brazil peaks between August and October."
   ]
  },
  {
   "cell_type": "markdown",
   "metadata": {},
   "source": [
    "When analysing this data we must note a few things. Firstly, the data ends at 2017. therefore we cannot extrapolate to 2019 and answer our question if the fires in the Amazon are currently abnormal. Secondly, not we must realize that not all fires are reported. This can lead to a skewness in the data. But overall all what we can take away from our current analysis is that there are fluctuations to the number of fires happening in Brazil and is not showing a sign of a constant upward slope. This does not however mean that we should not be cautious about the fires happening currently in the Amazon. "
   ]
  }
 ],
 "metadata": {
  "kernelspec": {
   "display_name": "Python 3",
   "language": "python",
   "name": "python3"
  },
  "language_info": {
   "codemirror_mode": {
    "name": "ipython",
    "version": 3
   },
   "file_extension": ".py",
   "mimetype": "text/x-python",
   "name": "python",
   "nbconvert_exporter": "python",
   "pygments_lexer": "ipython3",
   "version": "3.7.4"
  }
 },
 "nbformat": 4,
 "nbformat_minor": 1
}
